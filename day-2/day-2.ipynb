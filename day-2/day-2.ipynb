{
 "cells": [
  {
   "cell_type": "markdown",
   "id": "a4da69ee",
   "metadata": {},
   "source": [
    "# AoC 2023, day 2"
   ]
  },
  {
   "cell_type": "markdown",
   "id": "337aa20b",
   "metadata": {},
   "source": [
    "## Part 1"
   ]
  },
  {
   "cell_type": "code",
   "execution_count": 72,
   "metadata": {},
   "outputs": [],
   "source": [
    "import numpy as np"
   ]
  },
  {
   "cell_type": "code",
   "execution_count": 73,
   "metadata": {},
   "outputs": [],
   "source": [
    "ids = []\n",
    "games = []\n",
    "with open(\"input.txt\", \"r\") as f:\n",
    "    for line in f:\n",
    "        id = int(line.split(\" \")[1].replace(\":\", \"\"))\n",
    "        ids.append(id)\n",
    "        game = []\n",
    "        for s in line.replace(\" \",\"0\").split(\":\")[1].split(\";\"):\n",
    "            r = s.find(\"red\")\n",
    "            g = s.find(\"green\")\n",
    "            b = s.find(\"blue\")\n",
    "            subgame = [int(s[r-3:r-1]) if r!=-1 else 0,\n",
    "                        int(s[g-3:g-1]) if g!=-1 else 0,\n",
    "                        int(s[b-3:b-1]) if b!=-1 else 0]\n",
    "            game.append(subgame)\n",
    "        games.append(game)\n",
    "ids = np.array(ids, dtype=\"int\")"
   ]
  },
  {
   "cell_type": "code",
   "execution_count": 76,
   "metadata": {},
   "outputs": [
    {
     "name": "stdout",
     "output_type": "stream",
     "text": [
      "Answer to part 1: 2476\n"
     ]
    }
   ],
   "source": [
    "N = len(ids)\n",
    "feasibles = np.ones(N, dtype=\"int\")\n",
    "for i in range(N):\n",
    "    game = games[i]\n",
    "    for subgame in game:\n",
    "        if subgame[0] > 12 or subgame[1] > 13 or subgame[2] > 14:\n",
    "            feasibles[i] = 0\n",
    "\n",
    "print(f\"Answer to part 1: {np.dot(feasibles, ids)}\")"
   ]
  },
  {
   "cell_type": "markdown",
   "metadata": {},
   "source": [
    "## Part 2"
   ]
  },
  {
   "cell_type": "code",
   "execution_count": 83,
   "metadata": {},
   "outputs": [
    {
     "name": "stdout",
     "output_type": "stream",
     "text": [
      "Answer to part 2: 54911\n"
     ]
    }
   ],
   "source": [
    "x = 0\n",
    "for game in games:\n",
    "    x += np.prod(np.max(game, axis=0))\n",
    "\n",
    "print(f\"Answer to part 2: {x}\")"
   ]
  }
 ],
 "metadata": {
  "jupytext": {
   "cell_metadata_filter": "-all",
   "main_language": "python",
   "notebook_metadata_filter": "-all"
  },
  "kernelspec": {
   "display_name": "science",
   "language": "python",
   "name": "python3"
  },
  "language_info": {
   "codemirror_mode": {
    "name": "ipython",
    "version": 3
   },
   "file_extension": ".py",
   "mimetype": "text/x-python",
   "name": "python",
   "nbconvert_exporter": "python",
   "pygments_lexer": "ipython3",
   "version": "3.11.5"
  }
 },
 "nbformat": 4,
 "nbformat_minor": 5
}
